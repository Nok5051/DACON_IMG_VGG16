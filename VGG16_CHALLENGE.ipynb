{
 "cells": [
  {
   "cell_type": "markdown",
   "id": "5a6ea6d1",
   "metadata": {},
   "source": [
    "# GPU 할당"
   ]
  },
  {
   "cell_type": "code",
   "execution_count": 1,
   "id": "38055e95",
   "metadata": {},
   "outputs": [
    {
     "data": {
      "text/plain": [
       "[LogicalDevice(name='/device:CPU:0', device_type='CPU'),\n",
       " LogicalDevice(name='/device:GPU:0', device_type='GPU')]"
      ]
     },
     "execution_count": 1,
     "metadata": {},
     "output_type": "execute_result"
    }
   ],
   "source": [
    "import tensorflow as tf \n",
    "tf.config.list_logical_devices()"
   ]
  },
  {
   "cell_type": "code",
   "execution_count": 2,
   "id": "5f980e5b",
   "metadata": {},
   "outputs": [],
   "source": [
    "import os\n",
    "import warnings\n",
    "warnings.filterwarnings(action='ignore')\n",
    "\n",
    "os.environ[\"CUDA_VISIBLE_DEVICES\"]=\"0\" # GPU 할당"
   ]
  },
  {
   "cell_type": "code",
   "execution_count": 3,
   "id": "59bf5a8f",
   "metadata": {},
   "outputs": [
    {
     "data": {
      "text/plain": [
       "'C:\\\\Users\\\\wogml\\\\anaconda3\\\\A_science\\\\1. dacon_basic_img'"
      ]
     },
     "execution_count": 3,
     "metadata": {},
     "output_type": "execute_result"
    }
   ],
   "source": [
    "pwd"
   ]
  },
  {
   "cell_type": "markdown",
   "id": "e6bb7884",
   "metadata": {},
   "source": [
    "# train dataset"
   ]
  },
  {
   "cell_type": "code",
   "execution_count": 4,
   "id": "d62081bd",
   "metadata": {},
   "outputs": [
    {
     "name": "stdout",
     "output_type": "stream",
     "text": [
      "(50000, 32, 32, 3)\n",
      "(50000, 1)\n"
     ]
    }
   ],
   "source": [
    "#create training dataset\n",
    "from glob import glob\n",
    "import numpy as np\n",
    "import PIL\n",
    "from PIL import Image\n",
    "\n",
    "path = './data/train/'\n",
    "\n",
    "training_images = []\n",
    "training_labels = []\n",
    "\n",
    "for filename in glob(path +\"*\"):\n",
    "    for img in glob(filename + \"/*.jpg\"):\n",
    "        an_img = PIL.Image.open(img) #read img\n",
    "        img_array = np.array(an_img) #img to array\n",
    "        training_images.append(img_array) #append array to training_images\n",
    "        label = filename.split('\\\\')[-1] #get label\n",
    "        training_labels.append(label) #append label\n",
    "        \n",
    "training_images = np.array(training_images)\n",
    "training_labels = np.array(training_labels)\n",
    "\n",
    "from sklearn.preprocessing import LabelEncoder\n",
    "\n",
    "le = LabelEncoder()\n",
    "training_labels= le.fit_transform(training_labels)\n",
    "training_labels = training_labels.reshape(-1,1)\n",
    "\n",
    "print(training_images.shape)\n",
    "print(training_labels.shape)"
   ]
  },
  {
   "cell_type": "markdown",
   "id": "630faa37",
   "metadata": {},
   "source": [
    "# test dataset"
   ]
  },
  {
   "cell_type": "code",
   "execution_count": 5,
   "id": "2d49d77a",
   "metadata": {},
   "outputs": [
    {
     "name": "stdout",
     "output_type": "stream",
     "text": [
      "(10000, 32, 32, 3)\n",
      "['0000.jpg', '0001.jpg', '0002.jpg', '0003.jpg', '0004.jpg']\n"
     ]
    }
   ],
   "source": [
    "path = './data/test/'\n",
    "\n",
    "test_images = []\n",
    "test_idx = []\n",
    "\n",
    "flist = sorted(glob(path + '*.jpg'))\n",
    "\n",
    "for filename in flist:\n",
    "    an_img = PIL.Image.open(filename) #read img\n",
    "    img_array = np.array(an_img) #img to array\n",
    "    test_images.append(img_array) #append array to training_images \n",
    "    label = filename.split('\\\\')[-1] #get id \n",
    "    test_idx.append(label) #append id\n",
    "    \n",
    "test_images = np.array(test_images)\n",
    "\n",
    "print(test_images.shape)\n",
    "print(test_idx[0:5])"
   ]
  },
  {
   "cell_type": "markdown",
   "id": "fafe5c37",
   "metadata": {},
   "source": [
    "# 데이터 라벨 확인"
   ]
  },
  {
   "cell_type": "code",
   "execution_count": 6,
   "id": "6761465a",
   "metadata": {},
   "outputs": [
    {
     "name": "stdout",
     "output_type": "stream",
     "text": [
      "0 airplane\n",
      "1 automobile\n",
      "2 bird\n",
      "3 cat\n",
      "4 deer\n",
      "5 dog\n",
      "6 frog\n",
      "7 horse\n",
      "8 ship\n",
      "9 truck\n"
     ]
    }
   ],
   "source": [
    "label_num = [0,1,2,3,4,5,6,7,8,9]\n",
    "label_name = le.inverse_transform(label_num)\n",
    "\n",
    "for i in range(10):\n",
    "    print(label_num[i], label_name[i])"
   ]
  },
  {
   "cell_type": "markdown",
   "id": "c8de003b",
   "metadata": {},
   "source": [
    "# imageDataGenerator"
   ]
  },
  {
   "cell_type": "code",
   "execution_count": 24,
   "id": "569d6a01",
   "metadata": {},
   "outputs": [],
   "source": [
    "from tensorflow.keras.preprocessing.image import ImageDataGenerator\n",
    "import tensorflow as tf\n",
    "\n",
    "tf.random.set_seed(42)\n",
    "\n",
    "image_generator = ImageDataGenerator(\n",
    "    rotation_range=30,\n",
    "    brightness_range = [0.8, 1.0],\n",
    "    zoom_range=0.3,\n",
    "    width_shift_range=0.2,\n",
    "    height_shift_range=0.2,\n",
    "    horizontal_flip=True,\n",
    "    vertical_flip=False\n",
    ")"
   ]
  },
  {
   "cell_type": "code",
   "execution_count": 25,
   "id": "be5ec3c2",
   "metadata": {},
   "outputs": [],
   "source": [
    "augment_size=200000 #10만개 생성\n",
    "\n",
    "np.random.seed(42)\n",
    "\n",
    "random_mask = np.random.randint(training_images.shape[0], size=augment_size)\n",
    "training_image_aug = training_images[random_mask].copy()\n",
    "training_labels_aug = training_labels[random_mask].copy()"
   ]
  },
  {
   "cell_type": "code",
   "execution_count": 26,
   "id": "4904ebfd",
   "metadata": {},
   "outputs": [],
   "source": [
    "training_image_aug = image_generator.flow(training_image_aug, np.zeros(augment_size), batch_size=augment_size, shuffle=False, seed = 42).next()[0]\n",
    "\n",
    "training_images = np.concatenate((training_images, training_image_aug)) #training에 생성한 데이터 추가\n",
    "training_labels = np.concatenate((training_labels, training_labels_aug)) "
   ]
  },
  {
   "cell_type": "code",
   "execution_count": 27,
   "id": "f4def163",
   "metadata": {},
   "outputs": [
    {
     "name": "stdout",
     "output_type": "stream",
     "text": [
      "(350000, 32, 32, 3)\n",
      "(350000, 1)\n"
     ]
    }
   ],
   "source": [
    "print(training_images.shape)\n",
    "print(training_labels.shape)"
   ]
  },
  {
   "cell_type": "markdown",
   "id": "a689444a",
   "metadata": {},
   "source": [
    "# 데이터 변환"
   ]
  },
  {
   "cell_type": "code",
   "execution_count": 28,
   "id": "a3e6d2b9",
   "metadata": {},
   "outputs": [],
   "source": [
    "from sklearn.model_selection import train_test_split\n",
    "\n",
    "X_train, X_valid, y_train, y_valid = train_test_split(training_images, \n",
    "                                                      training_labels, \n",
    "                                                      test_size=0.05, \n",
    "                                                      stratify = training_labels, \n",
    "                                                      random_state=42)\n",
    "X_test = test_images"
   ]
  },
  {
   "cell_type": "code",
   "execution_count": 29,
   "id": "0263d102",
   "metadata": {},
   "outputs": [
    {
     "name": "stdout",
     "output_type": "stream",
     "text": [
      "X_train 크기: (332500, 32, 32, 3)\n",
      "y_train 크기: (332500, 1)\n",
      "X_valid 크기: (17500, 32, 32, 3)\n",
      "y_valid 크기: (17500, 1)\n",
      "X_test  크기: (10000, 32, 32, 3)\n"
     ]
    }
   ],
   "source": [
    "print('X_train 크기:',X_train.shape)\n",
    "print('y_train 크기:',y_train.shape)\n",
    "print('X_valid 크기:',X_valid.shape)\n",
    "print('y_valid 크기:',y_valid.shape)\n",
    "print('X_test  크기:',X_test.shape)"
   ]
  },
  {
   "cell_type": "code",
   "execution_count": 30,
   "id": "b05caed4",
   "metadata": {},
   "outputs": [],
   "source": [
    "X_train = X_train / 255.0\n",
    "X_valid = X_valid / 255.0\n",
    "X_test = X_test / 255.0"
   ]
  },
  {
   "cell_type": "markdown",
   "id": "237851fd",
   "metadata": {},
   "source": [
    "# 모델링"
   ]
  },
  {
   "cell_type": "code",
   "execution_count": 31,
   "id": "b8ba007f",
   "metadata": {},
   "outputs": [],
   "source": [
    "output_channel = [512/8, 512/4, 512/2, 512]"
   ]
  },
  {
   "cell_type": "code",
   "execution_count": 32,
   "id": "ebc3861e",
   "metadata": {},
   "outputs": [],
   "source": [
    "import tensorflow as tf\n",
    "from tensorflow.keras import layers\n",
    "\n",
    "def VGG16_model():\n",
    "    tf.random.set_seed(2)\n",
    "    \n",
    "    output_channel = [512/8, 512/4, 512/2, 512]\n",
    "    model = tf.keras.models.Sequential([\n",
    "        # Conv 1\n",
    "        layers.Conv2D(output_channel[0], (3, 3), strides=1, padding='same', activation='relu',\n",
    "        input_shape=(32,32,3), name='conv1_1'),\n",
    "        layers.Conv2D(output_channel[0], (3, 3), strides=1, padding='same', activation='relu', name='conv1_2'),\n",
    "        layers.MaxPool2D((2,2), padding='same', name='conv1_MaxPool'),\n",
    "        layers.BatchNormalization(),\n",
    "        # Conv 2\n",
    "        layers.Conv2D(output_channel[1], (3, 3), strides=1, padding='same', activation='relu', name='conv2_1'),\n",
    "        layers.Conv2D(output_channel[1], (3, 3), strides=1, padding='same', activation='relu', name='conv2_2'),\n",
    "        layers.MaxPool2D((2,2), padding='same', name='conv2_MaxPool'),\n",
    "        layers.BatchNormalization(),\n",
    "        # Conv3\n",
    "        layers.Conv2D(output_channel[2], (3, 3), strides=1, padding='same', activation='relu', name='conv3_1'),\n",
    "        layers.Conv2D(output_channel[2], (3, 3), strides=1, padding='same', activation='relu', name='conv3_2'),\n",
    "        layers.Conv2D(output_channel[2], (3, 3), strides=1, padding='same', activation='relu', name='conv3_3'),\n",
    "        layers.MaxPool2D((2,2), padding='same', name='conv3_MaxPool'),\n",
    "        layers.BatchNormalization(),\n",
    "        layers.Dropout(0.3),\n",
    "        # Conv4\n",
    "        layers.Conv2D(output_channel[3], (3, 3), strides=1, padding='same', activation='relu', name='conv4_1'),\n",
    "        layers.Conv2D(output_channel[3], (3, 3), strides=1, padding='same', activation='relu', name='conv4_2'),\n",
    "        layers.Conv2D(output_channel[3], (3, 3), strides=1, padding='same', activation='relu', name='conv4_3'),\n",
    "        layers.MaxPool2D((2,2), padding='same', name='conv4_MaxPool'),\n",
    "        layers.BatchNormalization(),\n",
    "        # Conv5\n",
    "        layers.Conv2D(output_channel[3], (3, 3), strides=1, padding='same', activation='relu', name='conv5_1'),\n",
    "        layers.Conv2D(output_channel[3], (3, 3), strides=1, padding='same', activation='relu', name='conv5_2'),\n",
    "        layers.Conv2D(output_channel[3], (3, 3), strides=1, padding='same', activation='relu', name='conv5_3'),\n",
    "        layers.MaxPool2D((2,2), padding='same', name='conv5_MaxPool'),\n",
    "        layers.BatchNormalization(),\n",
    "        # Flatten\n",
    "        layers.GlobalAveragePooling2D(),\n",
    "        # Dropout\n",
    "        layers.Dropout(0.5),\n",
    "        # FC1\n",
    "        layers.Dense(output_channel[2], activation='relu'),\n",
    "        # output\n",
    "        layers.Dense(10, activation='softmax'),\n",
    "    ])\n",
    "    \n",
    "    model.compile(optimizer=tf.keras.optimizers.Adam(),\n",
    "    loss='sparse_categorical_crossentropy',\n",
    "    metrics=['acc'])\n",
    "    \n",
    "    return model"
   ]
  },
  {
   "cell_type": "code",
   "execution_count": 33,
   "id": "388e55d8",
   "metadata": {},
   "outputs": [
    {
     "name": "stdout",
     "output_type": "stream",
     "text": [
      "Model: \"sequential_2\"\n",
      "_________________________________________________________________\n",
      "Layer (type)                 Output Shape              Param #   \n",
      "=================================================================\n",
      "conv1_1 (Conv2D)             (None, 32, 32, 64)        1792      \n",
      "_________________________________________________________________\n",
      "conv1_2 (Conv2D)             (None, 32, 32, 64)        36928     \n",
      "_________________________________________________________________\n",
      "conv1_MaxPool (MaxPooling2D) (None, 16, 16, 64)        0         \n",
      "_________________________________________________________________\n",
      "batch_normalization_10 (Batc (None, 16, 16, 64)        256       \n",
      "_________________________________________________________________\n",
      "conv2_1 (Conv2D)             (None, 16, 16, 128)       73856     \n",
      "_________________________________________________________________\n",
      "conv2_2 (Conv2D)             (None, 16, 16, 128)       147584    \n",
      "_________________________________________________________________\n",
      "conv2_MaxPool (MaxPooling2D) (None, 8, 8, 128)         0         \n",
      "_________________________________________________________________\n",
      "batch_normalization_11 (Batc (None, 8, 8, 128)         512       \n",
      "_________________________________________________________________\n",
      "conv3_1 (Conv2D)             (None, 8, 8, 256)         295168    \n",
      "_________________________________________________________________\n",
      "conv3_2 (Conv2D)             (None, 8, 8, 256)         590080    \n",
      "_________________________________________________________________\n",
      "conv3_3 (Conv2D)             (None, 8, 8, 256)         590080    \n",
      "_________________________________________________________________\n",
      "conv3_MaxPool (MaxPooling2D) (None, 4, 4, 256)         0         \n",
      "_________________________________________________________________\n",
      "batch_normalization_12 (Batc (None, 4, 4, 256)         1024      \n",
      "_________________________________________________________________\n",
      "dropout_4 (Dropout)          (None, 4, 4, 256)         0         \n",
      "_________________________________________________________________\n",
      "conv4_1 (Conv2D)             (None, 4, 4, 512)         1180160   \n",
      "_________________________________________________________________\n",
      "conv4_2 (Conv2D)             (None, 4, 4, 512)         2359808   \n",
      "_________________________________________________________________\n",
      "conv4_3 (Conv2D)             (None, 4, 4, 512)         2359808   \n",
      "_________________________________________________________________\n",
      "conv4_MaxPool (MaxPooling2D) (None, 2, 2, 512)         0         \n",
      "_________________________________________________________________\n",
      "batch_normalization_13 (Batc (None, 2, 2, 512)         2048      \n",
      "_________________________________________________________________\n",
      "conv5_1 (Conv2D)             (None, 2, 2, 512)         2359808   \n",
      "_________________________________________________________________\n",
      "conv5_2 (Conv2D)             (None, 2, 2, 512)         2359808   \n",
      "_________________________________________________________________\n",
      "conv5_3 (Conv2D)             (None, 2, 2, 512)         2359808   \n",
      "_________________________________________________________________\n",
      "conv5_MaxPool (MaxPooling2D) (None, 1, 1, 512)         0         \n",
      "_________________________________________________________________\n",
      "batch_normalization_14 (Batc (None, 1, 1, 512)         2048      \n",
      "_________________________________________________________________\n",
      "global_average_pooling2d_2 ( (None, 512)               0         \n",
      "_________________________________________________________________\n",
      "dropout_5 (Dropout)          (None, 512)               0         \n",
      "_________________________________________________________________\n",
      "dense_4 (Dense)              (None, 256)               131328    \n",
      "_________________________________________________________________\n",
      "dense_5 (Dense)              (None, 10)                2570      \n",
      "=================================================================\n",
      "Total params: 14,854,474\n",
      "Trainable params: 14,851,530\n",
      "Non-trainable params: 2,944\n",
      "_________________________________________________________________\n"
     ]
    }
   ],
   "source": [
    "vgg_16 = VGG16_model()\n",
    "vgg_16.summary()"
   ]
  },
  {
   "cell_type": "markdown",
   "id": "a01fdf53",
   "metadata": {},
   "source": [
    "# model fit"
   ]
  },
  {
   "cell_type": "code",
   "execution_count": 34,
   "id": "fd182280",
   "metadata": {},
   "outputs": [],
   "source": [
    "from tensorflow import keras\n",
    "early_stop = keras.callbacks.EarlyStopping(monitor='val_loss', patience=10)\n"
   ]
  },
  {
   "cell_type": "code",
   "execution_count": 35,
   "id": "4f4e1a6e",
   "metadata": {},
   "outputs": [
    {
     "name": "stdout",
     "output_type": "stream",
     "text": [
      "Epoch 1/100\n",
      "2598/2598 [==============================] - 172s 66ms/step - loss: 1.6625 - acc: 0.3952 - val_loss: 2.1390 - val_acc: 0.3374\n",
      "Epoch 2/100\n",
      "2598/2598 [==============================] - 157s 61ms/step - loss: 1.2506 - acc: 0.5585 - val_loss: 1.1107 - val_acc: 0.6142\n",
      "Epoch 3/100\n",
      "2598/2598 [==============================] - 158s 61ms/step - loss: 0.9623 - acc: 0.6691 - val_loss: 0.9268 - val_acc: 0.6874\n",
      "Epoch 4/100\n",
      "2598/2598 [==============================] - 155s 60ms/step - loss: 0.7653 - acc: 0.7397 - val_loss: 0.7536 - val_acc: 0.7423\n",
      "Epoch 5/100\n",
      "2598/2598 [==============================] - 152s 58ms/step - loss: 0.6347 - acc: 0.7849 - val_loss: 0.6810 - val_acc: 0.7686\n",
      "Epoch 6/100\n",
      "2598/2598 [==============================] - 156s 60ms/step - loss: 0.5364 - acc: 0.8177 - val_loss: 0.7015 - val_acc: 0.7636\n",
      "Epoch 7/100\n",
      "2598/2598 [==============================] - 153s 59ms/step - loss: 0.4588 - acc: 0.8445 - val_loss: 0.5889 - val_acc: 0.8027\n",
      "Epoch 8/100\n",
      "2598/2598 [==============================] - 151s 58ms/step - loss: 0.3960 - acc: 0.8656 - val_loss: 0.6375 - val_acc: 0.7942\n",
      "Epoch 9/100\n",
      "2598/2598 [==============================] - 163s 63ms/step - loss: 0.3400 - acc: 0.8848 - val_loss: 0.6356 - val_acc: 0.7956\n",
      "Epoch 10/100\n",
      "2598/2598 [==============================] - 165s 64ms/step - loss: 0.2952 - acc: 0.8996 - val_loss: 0.6113 - val_acc: 0.8094\n",
      "Epoch 11/100\n",
      "2598/2598 [==============================] - 161s 62ms/step - loss: 0.2554 - acc: 0.9133 - val_loss: 0.5908 - val_acc: 0.8177\n",
      "Epoch 12/100\n",
      "2598/2598 [==============================] - 166s 64ms/step - loss: 0.2246 - acc: 0.9239 - val_loss: 0.5880 - val_acc: 0.8264\n",
      "Epoch 13/100\n",
      "2598/2598 [==============================] - 173s 66ms/step - loss: 0.1981 - acc: 0.9324 - val_loss: 0.6011 - val_acc: 0.8217\n",
      "Epoch 14/100\n",
      "2598/2598 [==============================] - 174s 67ms/step - loss: 0.1757 - acc: 0.9400 - val_loss: 0.5988 - val_acc: 0.8249\n",
      "Epoch 15/100\n",
      "2598/2598 [==============================] - 226s 87ms/step - loss: 0.1685 - acc: 0.9427 - val_loss: 0.6067 - val_acc: 0.8342\n",
      "Epoch 16/100\n",
      "2598/2598 [==============================] - 209s 81ms/step - loss: 0.1463 - acc: 0.9503 - val_loss: 0.5958 - val_acc: 0.8318\n",
      "Epoch 17/100\n",
      "2598/2598 [==============================] - 216s 83ms/step - loss: 0.1325 - acc: 0.9547 - val_loss: 0.6161 - val_acc: 0.8355\n",
      "Epoch 18/100\n",
      "2598/2598 [==============================] - 231s 89ms/step - loss: 0.1228 - acc: 0.9582 - val_loss: 0.6144 - val_acc: 0.8365\n",
      "Epoch 19/100\n",
      "2598/2598 [==============================] - 160s 62ms/step - loss: 0.1134 - acc: 0.9615 - val_loss: 0.8770 - val_acc: 0.8318\n",
      "Epoch 20/100\n",
      "2598/2598 [==============================] - 204s 79ms/step - loss: 0.1058 - acc: 0.9641 - val_loss: 0.6547 - val_acc: 0.8323\n",
      "Epoch 21/100\n",
      "2598/2598 [==============================] - 221s 85ms/step - loss: 0.0998 - acc: 0.9660 - val_loss: 0.6920 - val_acc: 0.8339\n",
      "Epoch 22/100\n",
      "2598/2598 [==============================] - 217s 83ms/step - loss: 0.0981 - acc: 0.9667 - val_loss: 0.6830 - val_acc: 0.8373\n"
     ]
    }
   ],
   "source": [
    "img_fit = vgg_16.fit(X_train, y_train, validation_data=(X_valid, y_valid), epochs=100, batch_size=128,\n",
    "                    callbacks = [early_stop])"
   ]
  },
  {
   "cell_type": "code",
   "execution_count": 36,
   "id": "8ee8b93a",
   "metadata": {
    "scrolled": true
   },
   "outputs": [
    {
     "data": {
      "image/png": "[encoded data removed]",
      "text/plain": [
       "<Figure size 432x288 with 1 Axes>"
      ]
     },
     "metadata": {
      "needs_background": "light"
     },
     "output_type": "display_data"
    },
    {
     "data": {
      "image/png": "[encoded data removed]",
      "text/plain": [
       "<Figure size 432x288 with 1 Axes>"
      ]
     },
     "metadata": {
      "needs_background": "light"
     },
     "output_type": "display_data"
    }
   ],
   "source": [
    "import matplotlib.pyplot as plot\n",
    "\n",
    "plot.plot(img_fit.history['acc'])\n",
    "plot.plot(img_fit.history['val_acc'])\n",
    "plot.title('Model accuracy')\n",
    "plot.ylabel('Accuracy')\n",
    "plot.xlabel('Epoch')\n",
    "plot.legend(['Train', 'Test'], loc='upper left')\n",
    "plot.show()\n",
    "\n",
    "plot.plot(img_fit.history['loss'])\n",
    "plot.plot(img_fit.history['val_loss'])\n",
    "plot.title('Model loss')\n",
    "plot.ylabel('Loss')\n",
    "plot.xlabel('Epoch')\n",
    "plot.legend(['Train', 'Test'], loc='upper left')\n",
    "plot.show()"
   ]
  },
  {
   "cell_type": "markdown",
   "id": "05e20a31",
   "metadata": {},
   "source": [
    "# 추론"
   ]
  },
  {
   "cell_type": "code",
   "execution_count": 37,
   "id": "42ff140b",
   "metadata": {},
   "outputs": [],
   "source": [
    "import pandas as pd"
   ]
  },
  {
   "cell_type": "markdown",
   "id": "c924ba78",
   "metadata": {},
   "source": [
    "**TTA 활용**"
   ]
  },
  {
   "cell_type": "code",
   "execution_count": 45,
   "id": "b8ab4ad4",
   "metadata": {},
   "outputs": [
    {
     "data": {
      "text/plain": [
       "array(['horse', 'airplane', 'airplane', 'horse', 'airplane'], dtype='<U10')"
      ]
     },
     "execution_count": 45,
     "metadata": {},
     "output_type": "execute_result"
    }
   ],
   "source": [
    "X_test_ori = test_images\n",
    "X_test = test_images\n",
    "X_test = X_test / 255.0\n",
    "\n",
    "pred_proba = vgg_16.predict(X_test)\n",
    "\n",
    "#TTA 적용\n",
    "for i in [1, 2, 3, 4]:\n",
    "    X_test_aug = image_generator.flow(X_test_ori, np.zeros(10000), batch_size=10000, shuffle=False, seed = 42^i).next()[0]\n",
    "    X_test_aug = X_test_aug / 255.0\n",
    "    pred_proba_aug = vgg_16.predict(X_test_aug)\n",
    "    pred_proba = np.add(pred_proba, pred_proba_aug)\n",
    "    \n",
    "pred_class = []\n",
    "\n",
    "for i in pred_proba:\n",
    "    pred = np.argmax(i)\n",
    "    pred_class.append(pred)\n",
    "    \n",
    "pred_class = le.inverse_transform(pred_class)\n",
    "pred_class[0:5]"
   ]
  },
  {
   "cell_type": "markdown",
   "id": "b255ca46",
   "metadata": {},
   "source": [
    "* np.zeros() 0으로 가득 찬 array를 생성합니다.\n",
    "* np.argmax() 다차원 배열의 경우에 차원에 따라 가장 큰 값의 인덱스들을 반환해주는 함수"
   ]
  },
  {
   "cell_type": "code",
   "execution_count": 46,
   "id": "45390366",
   "metadata": {},
   "outputs": [],
   "source": [
    "sample_submission = pd.read_csv(\"./data/sample_submission.csv\")\n",
    "\n",
    "sample_submission.target = pred_class\n",
    "sample_submission.to_csv(\"./submission/submit_vgg16_VER5.csv\",index=False)"
   ]
  }
 ],
 "metadata": {
  "kernelspec": {
   "display_name": "Python 3 (ipykernel)",
   "language": "python",
   "name": "python3"
  },
  "language_info": {
   "codemirror_mode": {
    "name": "ipython",
    "version": 3
   },
   "file_extension": ".py",
   "mimetype": "text/x-python",
   "name": "python",
   "nbconvert_exporter": "python",
   "pygments_lexer": "ipython3",
   "version": "3.9.7"
  }
 },
 "nbformat": 4,
 "nbformat_minor": 5
}
